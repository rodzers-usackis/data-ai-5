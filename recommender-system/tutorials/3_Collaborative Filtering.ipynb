{
 "cells": [
  {
   "cell_type": "markdown",
   "source": [
    "## Import MovieLens dataset\n",
    "\n",
    "[GroupLens](https://grouplens.org/) provides a collection of datasets that are used to study the behavior of users and items in a digital environment.\n",
    "\n",
    "[MovieLens](https://grouplens.org/datasets/movielens/) is one of those datasets that is about movies and ratings of those movies by users. It is a collection of millions ratings of thousands of movies by 9,000 users, but smaller dataset sizes are also available. We'll be using the **ml-100k** dataset which contains 100,000 ratings of 1682 movies by 943 users."
   ],
   "metadata": {
    "collapsed": false
   }
  },
  {
   "cell_type": "markdown",
   "source": [
    "# Collaborative Filtering\n",
    "\n",
    "Based on [Real Python Tutorial](https://realpython.com/build-recommendation-engine-collaborative-filtering/) and on this [Medium article](https://medium.com/analytics-vidhya/recommendation-system-using-collaborative-filtering-cc310e641fde)"
   ],
   "metadata": {
    "collapsed": false
   }
  },
  {
   "cell_type": "code",
   "execution_count": 1,
   "outputs": [
    {
     "name": "stdout",
     "output_type": "stream",
     "text": [
      "Number of users: 943 | Number of movies: 1682\n"
     ]
    }
   ],
   "source": [
    "import pandas as pd\n",
    "\n",
    "rating_list = pd.read_csv('datasets/ml-100k/u.data', sep='\\t', names=['user', 'movie', 'rating', 'timestamp'])\n",
    "items = pd.read_csv('datasets/ml-100k/u.item', sep='|', index_col=0,\n",
    "                    names=['title', 'release_date', 'video_release_date', 'imdb_url', 'unknown', 'action',\n",
    "                           'adventure', 'animation', 'childrens', 'comedy', 'crime', 'documentary', 'drama', 'fantasy',\n",
    "                           'film_noir', 'horror', 'musical', 'mystery', 'romance', 'sci_fi', 'thriller', 'war',\n",
    "                           'western'], encoding='latin-1')\n",
    "\n",
    "# unique number of users and movies (items)\n",
    "print(f'Number of users: {rating_list.user.nunique()} | Number of movies: {rating_list.movie.nunique()}')"
   ],
   "metadata": {
    "collapsed": false
   }
  },
  {
   "cell_type": "markdown",
   "source": [
    "## Train-test split\n",
    "\n",
    "We'll use the **train_test_split** function to split the dataset into a training set and a test set. We stratify the dataset by the ratings, so that all kinds of ratings are equally represented in the training and test sets."
   ],
   "metadata": {
    "collapsed": false
   }
  },
  {
   "cell_type": "code",
   "execution_count": 2,
   "outputs": [],
   "source": [
    "from sklearn.model_selection import train_test_split\n",
    "\n",
    "X_train, X_test, y_train, y_test = train_test_split(rating_list, rating_list.rating, test_size=0.25,\n",
    "                                                    stratify=rating_list.rating, random_state=42)"
   ],
   "metadata": {
    "collapsed": false
   }
  },
  {
   "cell_type": "markdown",
   "source": [
    "## User-User Collaborative Filtering"
   ],
   "metadata": {
    "collapsed": false
   }
  },
  {
   "cell_type": "markdown",
   "source": [
    "### User-Item Matrix\n",
    "\n",
    "First we pivot the data to create a **user-item matrix**.\n",
    "_Note that the pivot function introduces NaN values for missing data. This is intentional, as we want to ignore missing data when calculating the mean._\n",
    "\n",
    "Next we calculate the mean rating for each user. NaN values are ignored in this calculation. These mean ratings will serve as baseline ratings for each user when predicting new ratings."
   ],
   "metadata": {
    "collapsed": false
   }
  },
  {
   "cell_type": "code",
   "execution_count": 3,
   "outputs": [
    {
     "data": {
      "text/plain": "(943, 1644)"
     },
     "metadata": {},
     "output_type": "display_data"
    },
    {
     "data": {
      "text/plain": "movie  1     2     3     4     5     6     7     8     9     10    ...  1670  \\\nuser                                                               ...         \n1       5.0   NaN   NaN   3.0   3.0   5.0   4.0   NaN   5.0   NaN  ...   NaN   \n2       4.0   NaN   NaN   NaN   NaN   NaN   NaN   NaN   NaN   NaN  ...   NaN   \n3       NaN   NaN   NaN   NaN   NaN   NaN   NaN   NaN   NaN   NaN  ...   NaN   \n4       NaN   NaN   NaN   NaN   NaN   NaN   NaN   NaN   NaN   NaN  ...   NaN   \n5       4.0   NaN   NaN   NaN   NaN   NaN   NaN   NaN   NaN   NaN  ...   NaN   \n\nmovie  1672  1674  1676  1677  1678  1679  1680  1681  1682  \nuser                                                         \n1       NaN   NaN   NaN   NaN   NaN   NaN   NaN   NaN   NaN  \n2       NaN   NaN   NaN   NaN   NaN   NaN   NaN   NaN   NaN  \n3       NaN   NaN   NaN   NaN   NaN   NaN   NaN   NaN   NaN  \n4       NaN   NaN   NaN   NaN   NaN   NaN   NaN   NaN   NaN  \n5       NaN   NaN   NaN   NaN   NaN   NaN   NaN   NaN   NaN  \n\n[5 rows x 1644 columns]",
      "text/html": "<div>\n<style scoped>\n    .dataframe tbody tr th:only-of-type {\n        vertical-align: middle;\n    }\n\n    .dataframe tbody tr th {\n        vertical-align: top;\n    }\n\n    .dataframe thead th {\n        text-align: right;\n    }\n</style>\n<table border=\"1\" class=\"dataframe\">\n  <thead>\n    <tr style=\"text-align: right;\">\n      <th>movie</th>\n      <th>1</th>\n      <th>2</th>\n      <th>3</th>\n      <th>4</th>\n      <th>5</th>\n      <th>6</th>\n      <th>7</th>\n      <th>8</th>\n      <th>9</th>\n      <th>10</th>\n      <th>...</th>\n      <th>1670</th>\n      <th>1672</th>\n      <th>1674</th>\n      <th>1676</th>\n      <th>1677</th>\n      <th>1678</th>\n      <th>1679</th>\n      <th>1680</th>\n      <th>1681</th>\n      <th>1682</th>\n    </tr>\n    <tr>\n      <th>user</th>\n      <th></th>\n      <th></th>\n      <th></th>\n      <th></th>\n      <th></th>\n      <th></th>\n      <th></th>\n      <th></th>\n      <th></th>\n      <th></th>\n      <th></th>\n      <th></th>\n      <th></th>\n      <th></th>\n      <th></th>\n      <th></th>\n      <th></th>\n      <th></th>\n      <th></th>\n      <th></th>\n      <th></th>\n    </tr>\n  </thead>\n  <tbody>\n    <tr>\n      <th>1</th>\n      <td>5.0</td>\n      <td>NaN</td>\n      <td>NaN</td>\n      <td>3.0</td>\n      <td>3.0</td>\n      <td>5.0</td>\n      <td>4.0</td>\n      <td>NaN</td>\n      <td>5.0</td>\n      <td>NaN</td>\n      <td>...</td>\n      <td>NaN</td>\n      <td>NaN</td>\n      <td>NaN</td>\n      <td>NaN</td>\n      <td>NaN</td>\n      <td>NaN</td>\n      <td>NaN</td>\n      <td>NaN</td>\n      <td>NaN</td>\n      <td>NaN</td>\n    </tr>\n    <tr>\n      <th>2</th>\n      <td>4.0</td>\n      <td>NaN</td>\n      <td>NaN</td>\n      <td>NaN</td>\n      <td>NaN</td>\n      <td>NaN</td>\n      <td>NaN</td>\n      <td>NaN</td>\n      <td>NaN</td>\n      <td>NaN</td>\n      <td>...</td>\n      <td>NaN</td>\n      <td>NaN</td>\n      <td>NaN</td>\n      <td>NaN</td>\n      <td>NaN</td>\n      <td>NaN</td>\n      <td>NaN</td>\n      <td>NaN</td>\n      <td>NaN</td>\n      <td>NaN</td>\n    </tr>\n    <tr>\n      <th>3</th>\n      <td>NaN</td>\n      <td>NaN</td>\n      <td>NaN</td>\n      <td>NaN</td>\n      <td>NaN</td>\n      <td>NaN</td>\n      <td>NaN</td>\n      <td>NaN</td>\n      <td>NaN</td>\n      <td>NaN</td>\n      <td>...</td>\n      <td>NaN</td>\n      <td>NaN</td>\n      <td>NaN</td>\n      <td>NaN</td>\n      <td>NaN</td>\n      <td>NaN</td>\n      <td>NaN</td>\n      <td>NaN</td>\n      <td>NaN</td>\n      <td>NaN</td>\n    </tr>\n    <tr>\n      <th>4</th>\n      <td>NaN</td>\n      <td>NaN</td>\n      <td>NaN</td>\n      <td>NaN</td>\n      <td>NaN</td>\n      <td>NaN</td>\n      <td>NaN</td>\n      <td>NaN</td>\n      <td>NaN</td>\n      <td>NaN</td>\n      <td>...</td>\n      <td>NaN</td>\n      <td>NaN</td>\n      <td>NaN</td>\n      <td>NaN</td>\n      <td>NaN</td>\n      <td>NaN</td>\n      <td>NaN</td>\n      <td>NaN</td>\n      <td>NaN</td>\n      <td>NaN</td>\n    </tr>\n    <tr>\n      <th>5</th>\n      <td>4.0</td>\n      <td>NaN</td>\n      <td>NaN</td>\n      <td>NaN</td>\n      <td>NaN</td>\n      <td>NaN</td>\n      <td>NaN</td>\n      <td>NaN</td>\n      <td>NaN</td>\n      <td>NaN</td>\n      <td>...</td>\n      <td>NaN</td>\n      <td>NaN</td>\n      <td>NaN</td>\n      <td>NaN</td>\n      <td>NaN</td>\n      <td>NaN</td>\n      <td>NaN</td>\n      <td>NaN</td>\n      <td>NaN</td>\n      <td>NaN</td>\n    </tr>\n  </tbody>\n</table>\n<p>5 rows × 1644 columns</p>\n</div>"
     },
     "execution_count": 3,
     "metadata": {},
     "output_type": "execute_result"
    }
   ],
   "source": [
    "from IPython.core.display_functions import display\n",
    "\n",
    "# pivot ratings to user-item matrix\n",
    "ratings = X_train.pivot(index='user', columns='movie', values='rating')\n",
    "mean_ratings = ratings.mean(axis=1)\n",
    "display(ratings.shape)\n",
    "ratings.head()"
   ],
   "metadata": {
    "collapsed": false
   }
  },
  {
   "cell_type": "markdown",
   "source": [
    "## Calculate similarity between users\n",
    "\n",
    "Using Nearest Neighbors algorithm we can calculate the similarity between a **target user** and other users using the cosine similarity between the user's rating vectors.\n",
    "The cosine similarity is calculated by taking the dot product of the two vectors and dividing by the product of their magnitudes (see Content-based recommendation for more details).\n"
   ],
   "metadata": {
    "collapsed": false
   }
  },
  {
   "cell_type": "code",
   "execution_count": null,
   "outputs": [],
   "source": [
    "# compute all recommendations for all movies given a user and model\n",
    "def get_all_recommendations(user_id, model, use_means=True):\n",
    "    distances, indices = model.kneighbors(ratings.fillna(0))  # knn are the nearest neighbors of the user\n",
    "    indices = pd.DataFrame(indices + 1, index=ratings.index)  # don't forget to increase the nearest neighbor indices by 1\n",
    "    sim = pd.DataFrame(1 - distances, index=ratings.index)  # 1 - distance because we want to invert the distance\n",
    "    neighors = indices.loc[user_id, 1:]\n",
    "    similarities = sim.loc[user_id, 1:]\n",
    "    similarities.index = ratings.loc[neighors].index\n",
    "    if use_means:\n",
    "        return pd.Series(\n",
    "            mean_ratings.loc[user_id] + ratings.loc[neighors].subtract(mean_ratings.loc[neighors], axis='index').mul(\n",
    "                similarities, axis='index').sum(axis='index') / similarities.sum(), name='recommendation')\n",
    "    else:\n",
    "        return pd.Series(ratings.loc[neighors].mul(similarities, axis='index').sum(axis='index') / similarities.sum(),\n",
    "                         name='recommendation')\n",
    "\n",
    "\n",
    "# compute a single recommendation for a given user, movie and model\n",
    "def get_recommendation(user_id, movie_id, model, use_means=True):\n",
    "    if movie_id not in ratings.columns:\n",
    "        return 2.5\n",
    "    recommendations = get_all_recommendations(user_id, model, use_means=use_means)\n",
    "    return recommendations.loc[movie_id]"
   ],
   "metadata": {
    "collapsed": false
   }
  },
  {
   "cell_type": "markdown",
   "source": [
    "## Model Evaluation\n",
    "\n",
    "We compute the **Root Mean Squared Error** (RMSE) of the Collaborative Filtering model. First we predict ratings for all movies for every user in the test set.\n",
    "Next we line the predicted ratings with the actual ratings in the test set and compute the RMSE.\n",
    "\n",
    "[What does RMSE really mean?](https://towardsdatascience.com/what-does-rmse-really-mean-806b65f2e48e)\n",
    "\n",
    "_To phrase it another way, RMSE is a good way to answer the question: “How far off should we expect our model to be on its next prediction?”_\n"
   ],
   "metadata": {
    "collapsed": false
   }
  },
  {
   "cell_type": "code",
   "execution_count": null,
   "outputs": [],
   "source": [
    "from sklearn.neighbors import NearestNeighbors\n",
    "from sklearn.metrics import mean_squared_error\n",
    "\n",
    "model = NearestNeighbors(n_neighbors=40, metric='cosine')\n",
    "model.fit(ratings.fillna(0))\n",
    "\n",
    "\n",
    "def get_RMSE(X_test, model, use_means=True):\n",
    "    group = X_test[['movie', 'rating']].groupby(X_test.user)\n",
    "    mse = pd.DataFrame(columns=['movie', 'rating', 'recommendation'])\n",
    "    i = 0\n",
    "    for key in group.groups:\n",
    "        predictions = get_all_recommendations(key, model=model, use_means=use_means)\n",
    "        rated_movies = group.get_group(key).set_index('movie')\n",
    "        df = rated_movies.join(predictions).dropna().reset_index()\n",
    "        mse = pd.concat([mse, df]).reset_index(drop=True)\n",
    "        if i % 100 == 0:\n",
    "            score = np.sqrt(mean_squared_error(mse.rating, mse.recommendation))\n",
    "            print(f'{i}/{X_test.user.nunique()} - RMSE: {score:.4f}')\n",
    "        i += 1\n",
    "\n",
    "    score = np.sqrt(mean_squared_error(mse.rating, mse.recommendation))\n",
    "    print(f'{X_test.user.nunique()}/{X_test.user.nunique()} - RMSE: {score:.4f}')\n",
    "\n",
    "\n",
    "get_RMSE(X_test, model)"
   ],
   "metadata": {
    "collapsed": false
   }
  },
  {
   "cell_type": "code",
   "execution_count": null,
   "outputs": [],
   "source": [
    "import pandas as pd\n",
    "from surprise import Dataset, Reader\n",
    "\n",
    "ratings_dict = {\n",
    "    \"item\": [1, 2, 1, 2, 1, 2, 1, 2, 1],\n",
    "    \"user\": ['A', 'A', 'B', 'B', 'C', 'C', 'D', 'D', 'E'],\n",
    "    \"rating\": [1, 2, 2, 4, 2.5, 4, 4.5, 5, 3],\n",
    "}\n",
    "\n",
    "df = pd.DataFrame(ratings_dict)\n",
    "reader = Reader(rating_scale=(1, 5))\n",
    "\n",
    "data = Dataset.load_from_df(df[[\"user\", \"item\", \"rating\"]], reader)\n",
    "\n",
    "movielens = Dataset.load_builtin('ml-100k')"
   ],
   "metadata": {
    "collapsed": false
   }
  },
  {
   "cell_type": "code",
   "execution_count": null,
   "outputs": [],
   "source": [
    "trainingSet = movielens.build_full_trainset()\n",
    "algo.fit(trainingSet)"
   ],
   "metadata": {
    "collapsed": false
   }
  },
  {
   "cell_type": "code",
   "execution_count": 528,
   "outputs": [],
   "source": [
    "import numpy as np\n",
    "from sklearn.metrics.pairwise import cosine_similarity\n",
    "\n",
    "\n",
    "def get_recommendation(id_user, id_movie, ratings):\n",
    "    #cosine similarity of the ratings\n",
    "    similarity_matrix = cosine_similarity(ratings.fillna(0), ratings.fillna(0))\n",
    "    similarity_matrix_df = pd.DataFrame(similarity_matrix, index=ratings.index, columns=ratings.index)\n",
    "\n",
    "    cosine_scores = similarity_matrix_df[id_user]\n",
    "    ratings_scores = ratings[id_movie]\n",
    "    ratings_scores.dropna().dot(cosine_scores[~ratings_scores.isna()]) / cosine_scores[~ratings_scores.isna()].sum()\n",
    "    return np.dot(ratings_scores.dropna(), cosine_scores[~ratings_scores.isna()]) / cosine_scores[\n",
    "        ~ratings_scores.isna()].sum()\n",
    "\n",
    "\n",
    "# get recommendation for user 196 for movie 8\n",
    "get_recommendation(196, 8, ratings)\n"
   ],
   "metadata": {
    "collapsed": false
   }
  }
 ],
 "metadata": {
  "kernelspec": {
   "display_name": "Python 3",
   "language": "python",
   "name": "python3"
  },
  "language_info": {
   "codemirror_mode": {
    "name": "ipython",
    "version": 2
   },
   "file_extension": ".py",
   "mimetype": "text/x-python",
   "name": "python",
   "nbconvert_exporter": "python",
   "pygments_lexer": "ipython2",
   "version": "2.7.6"
  }
 },
 "nbformat": 4,
 "nbformat_minor": 0
}
