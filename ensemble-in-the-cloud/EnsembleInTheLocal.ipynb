{
 "cells": [
  {
   "cell_type": "code",
   "execution_count": 125,
   "outputs": [],
   "source": [
    "# import all the libraries that you need at the top of the notebook\n",
    "import pandas as pd\n",
    "import numpy as np\n",
    "import pickle\n",
    "import sklearn.utils\n",
    "\n",
    "from sklearn.model_selection import train_test_split\n",
    "from sklearn.preprocessing import OneHotEncoder\n",
    "\n",
    "from sklearn.linear_model import LinearRegression\n",
    "from sklearn.svm import SVR\n",
    "from sklearn.linear_model import Ridge\n",
    "from sklearn.linear_model import Lasso\n",
    "from sklearn.ensemble import RandomForestRegressor\n",
    "from sklearn.ensemble import VotingRegressor"
   ],
   "metadata": {
    "collapsed": false,
    "pycharm": {
     "name": "#%%\n"
    }
   }
  },
  {
   "cell_type": "code",
   "execution_count": 126,
   "outputs": [],
   "source": [
    "# Define BUCKET_ROOT (for now a dummy value will do, this will become clear in Part 3)\n",
    "# Define DATA_DIR (initially this will be a local directory, but later it will be a Google Cloud Storage bucket)\n",
    "\n",
    "BUCKET_ROOT = '/gcs/data_ai_5_bucket'\n",
    "DATA_DIR = f'{BUCKET_ROOT}/data_directory/'\n",
    "DATASET_FILENAME = 'kc_house_data.csv'\n",
    "\n",
    "DATASET_LOCATION = 'datasets/kc_house_data.csv'\n",
    "DIRECTORY = 'model_artifacts/'\n",
    "FILENAME = 'model.pkl'"
   ],
   "metadata": {
    "collapsed": false,
    "pycharm": {
     "name": "#%%\n"
    }
   }
  },
  {
   "cell_type": "code",
   "execution_count": 127,
   "outputs": [],
   "source": [
    "def load_data(data_dir):\n",
    "    # load the data with correct data types\n",
    "    df = pd.read_csv(data_dir)\n",
    "\n",
    "    # return the data\n",
    "    return df"
   ],
   "metadata": {
    "collapsed": false,
    "pycharm": {
     "name": "#%%\n"
    }
   }
  },
  {
   "cell_type": "code",
   "execution_count": 128,
   "outputs": [],
   "source": [
    "def transform_data(df):\n",
    "    # transform the data\n",
    "    df.drop(columns=['id'], inplace=True)\n",
    "\n",
    "    df['date'] = pd.to_datetime(df['date'])\n",
    "\n",
    "    df['zipcode'] = df['zipcode'].astype(str)\n",
    "\n",
    "    one_hot = OneHotEncoder()\n",
    "    encoded = one_hot.fit_transform(df[['zipcode']])\n",
    "    df[one_hot.categories_[0]] = encoded.toarray()\n",
    "\n",
    "    df.drop('zipcode', axis=1, inplace=True)\n",
    "\n",
    "    df.drop(['lat', 'long'], axis=1, inplace=True)\n",
    "\n",
    "    # return the transformed data\n",
    "    return df"
   ],
   "metadata": {
    "collapsed": false,
    "pycharm": {
     "name": "#%%\n"
    }
   }
  },
  {
   "cell_type": "code",
   "execution_count": 129,
   "outputs": [],
   "source": [
    "def remove_outliers(df):\n",
    "    dataframe_with_removed_outliers = df.copy()\n",
    "\n",
    "    index_names = dataframe_with_removed_outliers[dataframe_with_removed_outliers['bedrooms'] > 13].index\n",
    "    dataframe_with_removed_outliers.drop(index_names, inplace=True)\n",
    "\n",
    "    index_names = dataframe_with_removed_outliers[dataframe_with_removed_outliers['price'] > 6000000].index\n",
    "    dataframe_with_removed_outliers.drop(index_names, inplace=True)\n",
    "\n",
    "    index_names = dataframe_with_removed_outliers[dataframe_with_removed_outliers['sqft_living'] > 10000].index\n",
    "    dataframe_with_removed_outliers.drop(index_names, inplace=True)\n",
    "\n",
    "    return dataframe_with_removed_outliers"
   ],
   "metadata": {
    "collapsed": false,
    "pycharm": {
     "name": "#%%\n"
    }
   }
  },
  {
   "cell_type": "code",
   "execution_count": 130,
   "outputs": [],
   "source": [
    "def split_data(df):\n",
    "    # split the data\n",
    "    x = df.loc[:, ~dataframe.columns.isin(['price', 'date'])].values\n",
    "    y = df['price'].values\n",
    "\n",
    "    x_train, x_test, y_train, y_test = train_test_split(x, y, test_size=0.3, random_state=100)\n",
    "\n",
    "    # return the train and test data\n",
    "    return x_train, x_test, y_train, y_test"
   ],
   "metadata": {
    "collapsed": false,
    "pycharm": {
     "name": "#%%\n"
    }
   }
  },
  {
   "cell_type": "code",
   "execution_count": 131,
   "outputs": [],
   "source": [
    "def normalize_data(x_train, x_test, y_train, y_test):\n",
    "    # standardize the data\n",
    "    mean_x = x_train.mean()\n",
    "    std_x = x_train.std()\n",
    "\n",
    "    mean_y = y_train.mean()\n",
    "    std_y = y_train.std()\n",
    "\n",
    "    x_train_norm = (x_train - mean_x) / std_x\n",
    "    x_test_norm = (x_test - mean_x) / std_x\n",
    "\n",
    "    y_train_norm = (y_train - mean_y) / std_y\n",
    "    y_test_norm = (y_test - mean_y) / std_y\n",
    "\n",
    "    # return the standardized data\n",
    "    return x_train_norm, x_test_norm, y_train_norm, y_test_norm"
   ],
   "metadata": {
    "collapsed": false,
    "pycharm": {
     "name": "#%%\n"
    }
   }
  },
  {
   "cell_type": "code",
   "execution_count": 132,
   "outputs": [],
   "source": [
    "def create_model():\n",
    "    # create the ensemble model\n",
    "    mlr = LinearRegression()\n",
    "    ridge = Ridge()\n",
    "    lasso = Lasso()\n",
    "    rfr = RandomForestRegressor()\n",
    "    svr = SVR()\n",
    "\n",
    "    ensemble = VotingRegressor(estimators=[('mlr', mlr), ('ridge', ridge), ('lasso', lasso), ('rfr', rfr), ('svr', svr)])\n",
    "\n",
    "    # return the model\n",
    "    return ensemble"
   ],
   "metadata": {
    "collapsed": false,
    "pycharm": {
     "name": "#%%\n"
    }
   }
  },
  {
   "cell_type": "code",
   "execution_count": 133,
   "outputs": [],
   "source": [
    "def train_model(model, x_train_norm, y_train_norm):\n",
    "    # train the ensemble model\n",
    "    model.fit(x_train_norm, y_train_norm)\n",
    "\n",
    "    # return the model\n",
    "    return model"
   ],
   "metadata": {
    "collapsed": false,
    "pycharm": {
     "name": "#%%\n"
    }
   }
  },
  {
   "cell_type": "code",
   "execution_count": 134,
   "outputs": [],
   "source": [
    "def save_model(model, directory, filename):\n",
    "    # save the model\n",
    "    filepath = directory + filename\n",
    "\n",
    "    with open(filepath, 'wb') as f:\n",
    "        pickle.dump(model, f)\n",
    "\n",
    "    # return the path to the saved model\n",
    "    return filepath"
   ],
   "metadata": {
    "collapsed": false,
    "pycharm": {
     "name": "#%%\n"
    }
   }
  },
  {
   "cell_type": "code",
   "execution_count": 135,
   "outputs": [],
   "source": [
    "def load_model(fp):\n",
    "    # open the file\n",
    "    model_file = open(fp, 'rb')\n",
    "\n",
    "    # deserialize the model\n",
    "    model = pickle.load(model_file)\n",
    "\n",
    "    # close the file\n",
    "    model_file.close()\n",
    "\n",
    "    # return the model\n",
    "    return model\n"
   ],
   "metadata": {
    "collapsed": false,
    "pycharm": {
     "name": "#%%\n"
    }
   }
  },
  {
   "cell_type": "code",
   "execution_count": 136,
   "outputs": [
    {
     "name": "stderr",
     "output_type": "stream",
     "text": [
      "/home/asphyxia/PycharmProjects/Ensemble_In_The_Cloud/venv/lib/python3.9/site-packages/sklearn/linear_model/_coordinate_descent.py:645: ConvergenceWarning: Objective did not converge. You might want to increase the number of iterations, check the scale of the features or consider increasing regularisation. Duality gap: 1.803e+14, tolerance: 2.034e+11\n",
      "  model = cd_fast.enet_coordinate_descent(\n"
     ]
    }
   ],
   "source": [
    "# apply the methods in the correct order\n",
    "dataframe = load_data(DATASET_LOCATION)\n",
    "transform_data(dataframe)\n",
    "remove_outliers(dataframe)\n",
    "\n",
    "x_train, x_test, y_train, y_test = split_data(dataframe)\n",
    "\n",
    "x_train_normalized, x_test_normalized, y_train_normalized, y_test_normalized = normalize_data(x_train, x_test, y_train, y_test)\n",
    "\n",
    "ensemble_model = create_model()\n",
    "ensemble_model = train_model(ensemble_model, x_train, y_train)\n",
    "\n",
    "filepath = save_model(ensemble_model, DIRECTORY, FILENAME)"
   ],
   "metadata": {
    "collapsed": false,
    "pycharm": {
     "name": "#%%\n"
    }
   }
  },
  {
   "cell_type": "code",
   "execution_count": 137,
   "outputs": [
    {
     "name": "stdout",
     "output_type": "stream",
     "text": [
      "[355000. 269950. 400000. ... 506000. 667000. 480000.]\n"
     ]
    }
   ],
   "source": [
    "print(y_train)"
   ],
   "metadata": {
    "collapsed": false,
    "pycharm": {
     "name": "#%%\n"
    }
   }
  },
  {
   "cell_type": "code",
   "execution_count": 138,
   "outputs": [],
   "source": [
    "# test if model was saved successfully\n",
    "loaded_model = load_model(filepath)"
   ],
   "metadata": {
    "collapsed": false,
    "pycharm": {
     "name": "#%%\n"
    }
   }
  },
  {
   "cell_type": "code",
   "execution_count": 139,
   "outputs": [
    {
     "name": "stdout",
     "output_type": "stream",
     "text": [
      "VotingRegressor(estimators=[('mlr', LinearRegression()), ('ridge', Ridge()),\n",
      "                            ('lasso', Lasso()),\n",
      "                            ('rfr', RandomForestRegressor()), ('svr', SVR())])\n"
     ]
    }
   ],
   "source": [
    "print(loaded_model)"
   ],
   "metadata": {
    "collapsed": false,
    "pycharm": {
     "name": "#%%\n"
    }
   }
  },
  {
   "cell_type": "code",
   "execution_count": 143,
   "outputs": [
    {
     "name": "stdout",
     "output_type": "stream",
     "text": [
      "Ensemble model score: 0.7905305332508203\n"
     ]
    }
   ],
   "source": [
    "print(f'Ensemble model score: {loaded_model.score(x_test, y_test)}')"
   ],
   "metadata": {
    "collapsed": false,
    "pycharm": {
     "name": "#%%\n"
    }
   }
  },
  {
   "cell_type": "code",
   "execution_count": 141,
   "outputs": [],
   "source": [
    "value = [[3.0, 3.0, 1910.0, 4800.0, 1.5, 0.0, 0.0, 3.0, 9.0, 1910.0, 0.0, 1900.0, 1991.0, 1280.0, 1310.0, 0.0, 0.0, 0.0, 0.0, 0.0, 0.0, 0.0, 0.0, 0.0, 0.0, 0.0, 0.0, 0.0, 0.0, 0.0, 0.0, 0.0, 0.0, 0.0, 0.0, 0.0, 0.0, 0.0, 0.0, 0.0, 0.0, 0.0, 0.0, 0.0, 0.0, 0.0, 0.0, 0.0, 0.0, 0.0, 0.0, 0.0, 0.0, 0.0, 0.0, 0.0, 0.0, 1.0, 0.0, 0.0, 0.0, 0.0, 0.0, 0.0, 0.0, 0.0, 0.0, 0.0, 0.0, 0.0, 0.0, 0.0, 0.0, 0.0, 0.0, 0.0, 0.0, 0.0, 0.0, 0.0, 0.0, 0.0, 0.0, 0.0, 0.0]]"
   ],
   "metadata": {
    "collapsed": false,
    "pycharm": {
     "name": "#%%\n"
    }
   }
  },
  {
   "cell_type": "code",
   "execution_count": 142,
   "outputs": [
    {
     "data": {
      "text/plain": "779734"
     },
     "execution_count": 142,
     "metadata": {},
     "output_type": "execute_result"
    }
   ],
   "source": [
    "int(loaded_model.predict(value))"
   ],
   "metadata": {
    "collapsed": false,
    "pycharm": {
     "name": "#%%\n"
    }
   }
  },
  {
   "cell_type": "code",
   "execution_count": 142,
   "outputs": [],
   "source": [],
   "metadata": {
    "collapsed": false,
    "pycharm": {
     "name": "#%%\n"
    }
   }
  }
 ],
 "metadata": {
  "kernelspec": {
   "display_name": "Python 3",
   "language": "python",
   "name": "python3"
  },
  "language_info": {
   "codemirror_mode": {
    "name": "ipython",
    "version": 2
   },
   "file_extension": ".py",
   "mimetype": "text/x-python",
   "name": "python",
   "nbconvert_exporter": "python",
   "pygments_lexer": "ipython2",
   "version": "2.7.6"
  }
 },
 "nbformat": 4,
 "nbformat_minor": 0
}