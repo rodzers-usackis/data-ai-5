{
 "cells": [
  {
   "cell_type": "markdown",
   "source": [
    "# NOTE:\n",
    "\n",
    "I couldn't get the **aiplatform** library to work locally, no matter how hard I tried, there were always some package dependency issues.\n",
    "\n",
    "It is however successfully deployed in a Jupyter Notebook on the Vertex AI workbench."
   ],
   "metadata": {
    "collapsed": false,
    "pycharm": {
     "name": "#%% md\n"
    }
   }
  },
  {
   "cell_type": "code",
   "execution_count": 1,
   "outputs": [],
   "source": [
    "# import all the libraries that you need at the top of the notebook\n",
    "import pandas as pd\n",
    "import numpy as np\n",
    "\n",
    "from sklearn.model_selection import train_test_split\n",
    "from sklearn.preprocessing import OneHotEncoder\n",
    "\n",
    "from google.cloud import aiplatform"
   ],
   "metadata": {
    "collapsed": false,
    "pycharm": {
     "name": "#%%\n"
    }
   }
  },
  {
   "cell_type": "code",
   "execution_count": 2,
   "id": "c62c890f-0bc5-48ff-9ce4-8da5e5294ea7",
   "metadata": {
    "pycharm": {
     "name": "#%%\n"
    }
   },
   "outputs": [],
   "source": [
    "DATASET_LOCATION = './kc_house_data.csv'"
   ]
  },
  {
   "cell_type": "code",
   "execution_count": 3,
   "id": "79f2da42-7a60-4bb9-9000-fe329787db61",
   "metadata": {
    "pycharm": {
     "name": "#%%\n"
    }
   },
   "outputs": [],
   "source": [
    "def load_data(data_dir):\n",
    "    # load the data with correct data types\n",
    "    df = pd.read_csv(data_dir)\n",
    "\n",
    "    # return the data\n",
    "    return df"
   ]
  },
  {
   "cell_type": "code",
   "execution_count": 4,
   "id": "f1e3a832-c18d-484e-9532-84890bfed6b0",
   "metadata": {
    "pycharm": {
     "name": "#%%\n"
    }
   },
   "outputs": [],
   "source": [
    "def transform_data(df):\n",
    "    # transform the data\n",
    "    df.drop(columns=['id'], inplace=True)\n",
    "\n",
    "    df['date'] = pd.to_datetime(df['date'])\n",
    "\n",
    "    df['zipcode'] = df['zipcode'].astype(str)\n",
    "\n",
    "    one_hot = OneHotEncoder()\n",
    "    encoded = one_hot.fit_transform(df[['zipcode']])\n",
    "    df[one_hot.categories_[0]] = encoded.toarray()\n",
    "\n",
    "    df.drop('zipcode', axis=1, inplace=True)\n",
    "\n",
    "    df.drop(['lat', 'long'], axis=1, inplace=True)\n",
    "\n",
    "    # return the transformed data\n",
    "    return df"
   ]
  },
  {
   "cell_type": "code",
   "execution_count": 5,
   "id": "e08ee138-a93d-4f9c-b916-efb3c6bd0916",
   "metadata": {
    "pycharm": {
     "name": "#%%\n"
    }
   },
   "outputs": [],
   "source": [
    "def remove_outliers(df):\n",
    "    dataframe_with_removed_outliers = df.copy()\n",
    "\n",
    "    index_names = dataframe_with_removed_outliers[dataframe_with_removed_outliers['bedrooms'] > 13].index\n",
    "    dataframe_with_removed_outliers.drop(index_names, inplace=True)\n",
    "\n",
    "    index_names = dataframe_with_removed_outliers[dataframe_with_removed_outliers['price'] > 6000000].index\n",
    "    dataframe_with_removed_outliers.drop(index_names, inplace=True)\n",
    "\n",
    "    index_names = dataframe_with_removed_outliers[dataframe_with_removed_outliers['sqft_living'] > 10000].index\n",
    "    dataframe_with_removed_outliers.drop(index_names, inplace=True)\n",
    "\n",
    "    return dataframe_with_removed_outliers"
   ]
  },
  {
   "cell_type": "code",
   "execution_count": 6,
   "id": "b8fb9fba-01a6-4ac3-8092-455d78eae80d",
   "metadata": {
    "pycharm": {
     "name": "#%%\n"
    }
   },
   "outputs": [],
   "source": [
    "def split_data(df):\n",
    "    # split the data\n",
    "    x = df.loc[:, ~dataframe.columns.isin(['price', 'date'])]\n",
    "    y = df['price']\n",
    "\n",
    "    x_train, x_test, y_train, y_test = train_test_split(x, y, test_size=0.3, random_state=100)\n",
    "\n",
    "    # return the train and test data\n",
    "    return x_train, x_test, y_train, y_test"
   ]
  },
  {
   "cell_type": "code",
   "execution_count": 7,
   "id": "2c3b42cb-4db3-4fae-8382-c615ea2b9ddb",
   "metadata": {
    "pycharm": {
     "name": "#%%\n"
    }
   },
   "outputs": [],
   "source": [
    "def normalize_data(x_train, x_test, y_train, y_test):\n",
    "    # standardize the data\n",
    "    mean_x = x_train.mean()\n",
    "    std_x = x_train.std()\n",
    "\n",
    "    mean_y = y_train.mean()\n",
    "    std_y = y_train.std()\n",
    "\n",
    "    x_train_norm = (x_train - mean_x) / std_x\n",
    "    x_test_norm = (x_test - mean_x) / std_x\n",
    "\n",
    "    y_train_norm = (y_train - mean_y) / std_y\n",
    "    y_test_norm = (y_test - mean_y) / std_y\n",
    "\n",
    "    # return the standardized data\n",
    "    return x_train_norm, x_test_norm, y_train_norm, y_test_norm"
   ]
  },
  {
   "cell_type": "code",
   "execution_count": 8,
   "id": "91a8a199-4c4b-4862-a3c1-19b8e0cca295",
   "metadata": {
    "pycharm": {
     "name": "#%%\n"
    }
   },
   "outputs": [],
   "source": [
    "# loading the dataset\n",
    "dataframe = load_data(DATASET_LOCATION)\n",
    "transform_data(dataframe)\n",
    "remove_outliers(dataframe)\n",
    "\n",
    "x_train, x_test, y_train, y_test = split_data(dataframe)\n",
    "\n",
    "# testing if the endpoint works\n",
    "ensemble_model_endpoint = aiplatform.Endpoint(\n",
    "    endpoint_name=\"projects/367901149883/locations/europe-west1/endpoints/8529870470797852672\")"
   ]
  },
  {
   "cell_type": "code",
   "execution_count": 9,
   "id": "04e48568-24b6-4a7b-8044-e20caec3afb4",
   "metadata": {
    "pycharm": {
     "name": "#%%\n"
    }
   },
   "outputs": [
    {
     "name": "stdout",
     "output_type": "stream",
     "text": [
      "       bedrooms  bathrooms  sqft_living  sqft_lot  floors  waterfront  view  \\\n",
      "19836         3       2.50         2437      5136     2.0           0     0   \n",
      "10442         3       2.50         1560      4800     2.0           0     0   \n",
      "20548         3       2.50         2390     47480     2.0           0     0   \n",
      "11014         3       1.00         1480      5100     1.5           0     0   \n",
      "4138          4       3.50         1880      1341     3.0           0     0   \n",
      "...         ...        ...          ...       ...     ...         ...   ...   \n",
      "5828          4       2.50         2811      7251     2.0           0     0   \n",
      "9478          3       3.00         1910      4800     1.5           0     0   \n",
      "13086         4       2.25         2450     11960     1.0           0     0   \n",
      "19162         3       2.25         1453      2225     2.0           0     0   \n",
      "11535         3       3.25         4560     13363     1.0           0     4   \n",
      "\n",
      "       condition  grade  sqft_above  ...  98146  98148  98155  98166  98168  \\\n",
      "19836          3      7        2437  ...    0.0    0.0    0.0    0.0    0.0   \n",
      "10442          4      7        1560  ...    0.0    0.0    0.0    0.0    0.0   \n",
      "20548          3      9        2390  ...    0.0    0.0    0.0    0.0    0.0   \n",
      "11014          3      7        1480  ...    0.0    0.0    0.0    0.0    0.0   \n",
      "4138           3      8        1650  ...    0.0    0.0    0.0    0.0    0.0   \n",
      "...          ...    ...         ...  ...    ...    ...    ...    ...    ...   \n",
      "5828           3      9        2811  ...    0.0    0.0    0.0    0.0    0.0   \n",
      "9478           3      9        1910  ...    0.0    0.0    0.0    0.0    0.0   \n",
      "13086          3     10        2450  ...    0.0    0.0    0.0    0.0    0.0   \n",
      "19162          4      8        1453  ...    0.0    0.0    0.0    0.0    0.0   \n",
      "11535          3     11        2760  ...    0.0    0.0    0.0    0.0    0.0   \n",
      "\n",
      "       98177  98178  98188  98198  98199  \n",
      "19836    0.0    0.0    0.0    0.0    0.0  \n",
      "10442    0.0    0.0    0.0    0.0    0.0  \n",
      "20548    0.0    0.0    0.0    0.0    0.0  \n",
      "11014    0.0    0.0    0.0    0.0    0.0  \n",
      "4138     0.0    0.0    0.0    0.0    0.0  \n",
      "...      ...    ...    ...    ...    ...  \n",
      "5828     0.0    0.0    0.0    0.0    0.0  \n",
      "9478     0.0    0.0    0.0    0.0    0.0  \n",
      "13086    0.0    0.0    0.0    0.0    0.0  \n",
      "19162    0.0    0.0    0.0    0.0    0.0  \n",
      "11535    0.0    0.0    0.0    0.0    0.0  \n",
      "\n",
      "[6484 rows x 85 columns]\n"
     ]
    }
   ],
   "source": [
    "# we can use these index values for testing the predictions\n",
    "print(x_test)"
   ]
  },
  {
   "cell_type": "code",
   "execution_count": 10,
   "id": "92ed1c74-65cf-4dfd-89a9-849f3865d977",
   "metadata": {
    "pycharm": {
     "name": "#%%\n"
    }
   },
   "outputs": [
    {
     "name": "stdout",
     "output_type": "stream",
     "text": [
      "[[4.0, 3.5, 1880.0, 1341.0, 3.0, 0.0, 0.0, 3.0, 8.0, 1650.0, 230.0, 2007.0, 0.0, 1740.0, 1883.0, 0.0, 0.0, 0.0, 0.0, 0.0, 0.0, 0.0, 0.0, 0.0, 0.0, 0.0, 0.0, 0.0, 0.0, 0.0, 0.0, 0.0, 0.0, 0.0, 0.0, 0.0, 0.0, 0.0, 0.0, 0.0, 0.0, 0.0, 0.0, 0.0, 0.0, 0.0, 0.0, 0.0, 0.0, 0.0, 0.0, 0.0, 0.0, 0.0, 0.0, 0.0, 0.0, 0.0, 0.0, 0.0, 0.0, 0.0, 0.0, 0.0, 0.0, 0.0, 0.0, 0.0, 0.0, 1.0, 0.0, 0.0, 0.0, 0.0, 0.0, 0.0, 0.0, 0.0, 0.0, 0.0, 0.0, 0.0, 0.0, 0.0, 0.0]]\n"
     ]
    }
   ],
   "source": [
    "values_for_prediction = x_test.loc[4138].values.reshape(1, -1).tolist()\n",
    "print(values_for_prediction)"
   ]
  },
  {
   "cell_type": "code",
   "execution_count": 11,
   "id": "6f67415a-4959-4577-9adb-87c8efb4a3e1",
   "metadata": {
    "pycharm": {
     "name": "#%%\n"
    }
   },
   "outputs": [],
   "source": [
    "endpoint_prediction = ensemble_model_endpoint.predict(instances=values_for_prediction).predictions"
   ]
  },
  {
   "cell_type": "code",
   "execution_count": 12,
   "id": "cbac0e58-8cda-451d-b23d-f959b29101b5",
   "metadata": {
    "pycharm": {
     "name": "#%%\n"
    }
   },
   "outputs": [
    {
     "name": "stdout",
     "output_type": "stream",
     "text": [
      "Endpoint prediction: [554899.7622373143]\n"
     ]
    }
   ],
   "source": [
    "print(f'Endpoint prediction: {endpoint_prediction}')"
   ]
  }
 ],
 "metadata": {
  "environment": {
   "kernel": "python3",
   "name": "common-cu110.m102",
   "type": "gcloud",
   "uri": "gcr.io/deeplearning-platform-release/base-cu110:m102"
  },
  "kernelspec": {
   "display_name": "Python 3",
   "language": "python",
   "name": "python3"
  },
  "language_info": {
   "codemirror_mode": {
    "name": "ipython",
    "version": 3
   },
   "file_extension": ".py",
   "mimetype": "text/x-python",
   "name": "python",
   "nbconvert_exporter": "python",
   "pygments_lexer": "ipython3",
   "version": "3.7.12"
  }
 },
 "nbformat": 4,
 "nbformat_minor": 5
}